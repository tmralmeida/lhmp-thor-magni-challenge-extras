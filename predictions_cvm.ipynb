{
 "cells": [
  {
   "cell_type": "code",
   "execution_count": 1,
   "metadata": {},
   "outputs": [],
   "source": [
    "%load_ext autoreload\n",
    "%autoreload 2\n",
    "%matplotlib inline\n",
    "\n",
    "import os \n",
    "import pandas as pd\n",
    "import numpy as np\n",
    "\n",
    "from cvm import ConstantVelocityModel"
   ]
  },
  {
   "cell_type": "code",
   "execution_count": 4,
   "metadata": {},
   "outputs": [],
   "source": [
    "EXTRAS_PATH = \"lhmp-thor-magni-challenge-extras\" # set path to package directory \n",
    "DATA_PATH = os.path.join(EXTRAS_PATH, \"data\") # path to data directory \n",
    "\n",
    "PREDICTION_LEN = 12\n",
    "SCENARIOS = [\"Scenario_1\", \"Scenario_2\", \"Scenario_3\", \"Scenario_4\", \"Scenario_5\"]"
   ]
  },
  {
   "cell_type": "code",
   "execution_count": 8,
   "metadata": {},
   "outputs": [
    {
     "name": "stderr",
     "output_type": "stream",
     "text": [
      "2935it [00:04, 732.92it/s]\n",
      "2935it [00:04, 716.70it/s]\n",
      "1459it [00:01, 756.44it/s]\n",
      "1459it [00:02, 684.66it/s]\n",
      "3023it [00:04, 694.06it/s]\n",
      "3023it [00:04, 730.22it/s]\n",
      "974it [00:01, 734.90it/s]\n",
      "974it [00:01, 651.91it/s]\n",
      "502it [00:00, 688.58it/s]\n",
      "502it [00:00, 686.05it/s]\n"
     ]
    }
   ],
   "source": [
    "scenario_predictions = []\n",
    "for scenario in SCENARIOS:\n",
    "    cvm_cfg = {\"pred_len\": PREDICTION_LEN, \"v0_mode\": \"constant\", \"v0_sigma\": None}\n",
    "    cvm = ConstantVelocityModel(cvm_cfg)\n",
    "    df = pd.read_csv(os.path.join(DATA_PATH, scenario + \".csv\"), index_col=\"Time\")\n",
    "    tracklets = [group for _, group in df.groupby(\"tracklet_id\")]\n",
    "    observations = [tracklet.iloc[:8] for tracklet in tracklets]\n",
    "    predictions = cvm.predict_dataset(observations)\n",
    "    scenario_prediction = np.array(predictions)\n",
    "    scenario_predictions.append(predictions)\n",
    "\n",
    "scenario_predictions = np.array(scenario_predictions, dtype=object)\n",
    "np.save(\n",
    "    os.path.join(EXTRAS_PATH, \"cvm_predictions.npy\"),\n",
    "    scenario_predictions,\n",
    "    allow_pickle=True,\n",
    ")"
   ]
  }
 ],
 "metadata": {
  "kernelspec": {
   "display_name": "tragen",
   "language": "python",
   "name": "python3"
  },
  "language_info": {
   "codemirror_mode": {
    "name": "ipython",
    "version": 3
   },
   "file_extension": ".py",
   "mimetype": "text/x-python",
   "name": "python",
   "nbconvert_exporter": "python",
   "pygments_lexer": "ipython3",
   "version": "3.11.3"
  }
 },
 "nbformat": 4,
 "nbformat_minor": 2
}
