{
 "cells": [
  {
   "cell_type": "code",
   "execution_count": 1,
   "metadata": {},
   "outputs": [],
   "source": [
    "%load_ext autoreload\n",
    "%autoreload 2\n",
    "%matplotlib inline\n",
    "\n",
    "import os \n",
    "import matplotlib.pyplot as plt\n",
    "import numpy as np\n",
    "import pandas as pd \n",
    "from torch.utils.data import DataLoader\n",
    "\n",
    "from scaler import FeaturesScaler\n",
    "from dataloader import HardMagni"
   ]
  },
  {
   "cell_type": "code",
   "execution_count": 2,
   "metadata": {},
   "outputs": [],
   "source": [
    "EXTRAS_PATH = \"lhmp-thor-magni-challenge-extras\" # set path to package directory  \n",
    "DATA_PATH = os.path.join(EXTRAS_PATH, \"data\") # path to data directory \n",
    "MAPS_PATH = os.path.join(DATA_PATH, \"maps\") # path to obstacle maps and offsets.json\n",
    "\n",
    "TRAIN_SCENARIOS = [\"Scenario_1\", \"Scenario_2\", \"Scenario_3\", \"Scenario_4\", \"Scenario_5\"]\n",
    "TEST_SCENARIO = \"Scenario_1\""
   ]
  },
  {
   "cell_type": "code",
   "execution_count": 3,
   "metadata": {},
   "outputs": [
    {
     "data": {
      "text/plain": [
       "['Scenario_2', 'Scenario_3', 'Scenario_4', 'Scenario_5']"
      ]
     },
     "execution_count": 3,
     "metadata": {},
     "output_type": "execute_result"
    }
   ],
   "source": [
    "train_scenarios = TRAIN_SCENARIOS\n",
    "train_scenarios.remove(TEST_SCENARIO)\n",
    "train_scenarios"
   ]
  },
  {
   "cell_type": "code",
   "execution_count": 4,
   "metadata": {},
   "outputs": [],
   "source": [
    "DATA_CONFIG = {\n",
    "    \"obs_len\" : 8,\n",
    "    \"pred_len\" : 12}"
   ]
  },
  {
   "cell_type": "markdown",
   "metadata": {},
   "source": [
    "# Loading data"
   ]
  },
  {
   "cell_type": "code",
   "execution_count": 5,
   "metadata": {},
   "outputs": [],
   "source": [
    "train_tracklets = []\n",
    "for train_scenario in train_scenarios:\n",
    "    df = pd.read_csv(os.path.join(DATA_PATH, train_scenario + \".csv\"), index_col = \"Time\")\n",
    "    tracklets = [group for _, group in df.groupby(\"tracklet_id\")]\n",
    "    train_tracklets.extend(tracklets)"
   ]
  },
  {
   "cell_type": "code",
   "execution_count": 6,
   "metadata": {},
   "outputs": [
    {
     "data": {
      "text/plain": [
       "5958"
      ]
     },
     "execution_count": 6,
     "metadata": {},
     "output_type": "execute_result"
    }
   ],
   "source": [
    "len(train_tracklets)"
   ]
  },
  {
   "cell_type": "code",
   "execution_count": 7,
   "metadata": {},
   "outputs": [],
   "source": [
    "full_ds_scl, statistics = FeaturesScaler.scale_dataset(train_tracklets)"
   ]
  },
  {
   "cell_type": "code",
   "execution_count": 8,
   "metadata": {},
   "outputs": [],
   "source": [
    "train_ds = HardMagni(\n",
    "    train_tracklets,\n",
    "    visuals_path=MAPS_PATH,\n",
    "    obs_len=DATA_CONFIG[\"obs_len\"],\n",
    "    window_size=3.5,\n",
    "    collapse_visitors=False,\n",
    ")"
   ]
  },
  {
   "cell_type": "code",
   "execution_count": 9,
   "metadata": {},
   "outputs": [],
   "source": [
    "train_dl = DataLoader(train_ds, 4, shuffle=True)\n",
    "train_dl_i = iter(train_dl)"
   ]
  },
  {
   "cell_type": "code",
   "execution_count": 10,
   "metadata": {},
   "outputs": [],
   "source": [
    "sample = next(train_dl_i)"
   ]
  },
  {
   "cell_type": "code",
   "execution_count": 11,
   "metadata": {},
   "outputs": [],
   "source": [
    "SAMPLE_IDX = 3"
   ]
  },
  {
   "cell_type": "code",
   "execution_count": 12,
   "metadata": {},
   "outputs": [],
   "source": [
    "obstacle_map = sample[\"img\"][SAMPLE_IDX].permute(1,2,0).numpy()\n",
    "trajectory_pixels = sample[\"trajectories_pixels\"][SAMPLE_IDX][:, :2]"
   ]
  },
  {
   "cell_type": "code",
   "execution_count": 13,
   "metadata": {},
   "outputs": [],
   "source": [
    "tracklet_origin = trajectory_pixels[DATA_CONFIG[\"obs_len\"] - 1]\n",
    "traj_transformed = (\n",
    "    trajectory_pixels[:7]\n",
    "    - tracklet_origin\n",
    "    + np.array([train_ds.window_size, train_ds.window_size])\n",
    ")"
   ]
  },
  {
   "cell_type": "code",
   "execution_count": 14,
   "metadata": {},
   "outputs": [
    {
     "data": {
      "image/png": "[encoded data removed]",
      "text/plain": [
       "<Figure size 640x480 with 1 Axes>"
      ]
     },
     "metadata": {},
     "output_type": "display_data"
    }
   ],
   "source": [
    "plt.imshow(obstacle_map);\n",
    "plt.scatter(traj_transformed[0, 0], traj_transformed[0, 1], s=200, color=\"red\", marker=\"x\");\n",
    "plt.scatter(traj_transformed[-1, 0], traj_transformed[-1, 1], s=200, color=\"blue\");\n",
    "plt.plot(traj_transformed[:, 0], traj_transformed[:, 1], linewidth=5, color=\"green\");"
   ]
  }
 ],
 "metadata": {
  "kernelspec": {
   "display_name": "tragen",
   "language": "python",
   "name": "python3"
  },
  "language_info": {
   "codemirror_mode": {
    "name": "ipython",
    "version": 3
   },
   "file_extension": ".py",
   "mimetype": "text/x-python",
   "name": "python",
   "nbconvert_exporter": "python",
   "pygments_lexer": "ipython3",
   "version": "3.11.3"
  }
 },
 "nbformat": 4,
 "nbformat_minor": 2
}
